{
 "cells": [
  {
   "cell_type": "markdown",
   "metadata": {},
   "source": [
    "# Tensorfow NN 1 couche softmax"
   ]
  },
  {
   "cell_type": "code",
   "execution_count": 25,
   "metadata": {},
   "outputs": [],
   "source": [
    "import tensorflow as tf\n",
    "import numpy as np\n",
    "from tensorflow.keras.utils import to_categorical\n",
    "import matplotlib.pyplot as plt"
   ]
  },
  {
   "cell_type": "code",
   "execution_count": 26,
   "metadata": {},
   "outputs": [],
   "source": [
    "(x_train, y_train), (x_test, y_test) = tf.keras.datasets.mnist.load_data()"
   ]
  },
  {
   "cell_type": "markdown",
   "metadata": {},
   "source": [
    "Deux étapes dans la création d'un réseau neuronal sous tensorflow:\n",
    "- Creation du graphe qui indique comment est structuré le réseau\n",
    "- Execution dans une session qui permet de définir le modèle (W et B)"
   ]
  },
  {
   "cell_type": "markdown",
   "metadata": {},
   "source": [
    "Définition des structures utilisées:\n",
    "- placeholder: tenseur réceptacle qui prend des données en entrée et qui doit toujours en contenir pour être évalué\n",
    "- variable: tenseur qui va évoluer au fur et à mesure des calculs"
   ]
  },
  {
   "cell_type": "markdown",
   "metadata": {},
   "source": [
    "## Pré traitement des données"
   ]
  },
  {
   "cell_type": "markdown",
   "metadata": {},
   "source": [
    "On divise les tenseurs en entrée par 255 pour ramener toutes les valeurs entre 0 et 1 (impératif sinon on obtient péniblement une précision de 75%... et des Nan sur le calcul de l'entropie croisée)"
   ]
  },
  {
   "cell_type": "code",
   "execution_count": 27,
   "metadata": {},
   "outputs": [],
   "source": [
    "x_train = x_train/255.\n",
    "x_test  = x_test/255."
   ]
  },
  {
   "cell_type": "markdown",
   "metadata": {},
   "source": [
    "Transformation de Y en vecteurs de type \"One hot encoded\""
   ]
  },
  {
   "cell_type": "code",
   "execution_count": 28,
   "metadata": {},
   "outputs": [],
   "source": [
    "y_train = to_categorical(y_train, dtype='int8')\n",
    "y_test  = to_categorical(y_test, dtype='int8')"
   ]
  },
  {
   "cell_type": "markdown",
   "metadata": {},
   "source": [
    "## Définition du graphe"
   ]
  },
  {
   "cell_type": "markdown",
   "metadata": {},
   "source": [
    "X est un tenseur dont la première dimension None correspondra à l'index du mini batch"
   ]
  },
  {
   "cell_type": "code",
   "execution_count": 29,
   "metadata": {},
   "outputs": [],
   "source": [
    "X = tf.placeholder(tf.float32, shape=(None,28,28))"
   ]
  },
  {
   "cell_type": "markdown",
   "metadata": {},
   "source": [
    "Y' (noté Y_) stocke les valeurs connues des nombres représentés sur chaque image"
   ]
  },
  {
   "cell_type": "code",
   "execution_count": 30,
   "metadata": {},
   "outputs": [],
   "source": [
    "Y_ = tf.placeholder(tf.float32, shape=(None,10))"
   ]
  },
  {
   "cell_type": "markdown",
   "metadata": {},
   "source": [
    "W et b vont varier lors de la phase d'apprentissage, ils sont stockés dans des tenseurs de type tf.variable"
   ]
  },
  {
   "cell_type": "markdown",
   "metadata": {},
   "source": [
    "Poids W[784, 10] (type défini par défaut tf.float32)"
   ]
  },
  {
   "cell_type": "code",
   "execution_count": 31,
   "metadata": {},
   "outputs": [],
   "source": [
    "W = tf.Variable(tf.zeros([784, 10]))"
   ]
  },
  {
   "cell_type": "markdown",
   "metadata": {},
   "source": [
    "Biais b[10]"
   ]
  },
  {
   "cell_type": "code",
   "execution_count": 32,
   "metadata": {},
   "outputs": [],
   "source": [
    "b = tf.Variable(tf.zeros([10]))\n",
    "#b = tf.Variable(tf.constant(0.1, shape=[10])) #N'empêche pas les NAN sur le calcul de l'entropie croisée"
   ]
  },
  {
   "cell_type": "markdown",
   "metadata": {},
   "source": [
    "Transformation des images de X en des vecteurs (Réduction des 3 denières dimensions du tenseur X: 28 * 28 * 1  => 784). (If one component of shape is the special value -1, the size of that dimension is computed so that the total size remains constant)"
   ]
  },
  {
   "cell_type": "code",
   "execution_count": 33,
   "metadata": {},
   "outputs": [],
   "source": [
    "Xv = tf.reshape(X, [-1, 784])"
   ]
  },
  {
   "cell_type": "markdown",
   "metadata": {},
   "source": [
    "Définition du modèle de réseau neuronal utilisé"
   ]
  },
  {
   "cell_type": "code",
   "execution_count": 34,
   "metadata": {},
   "outputs": [],
   "source": [
    "Y = tf.nn.softmax(tf.matmul(Xv,W) + b)"
   ]
  },
  {
   "cell_type": "markdown",
   "metadata": {},
   "source": [
    "Entropie croisée (utilisation de reduce_sum qui permet de faire la somme de tous les éléments du tenseur). Les opérations * et log se font élément par élément du vecteur. `Y_ * tf.log(Y)` aura la dimension [100, 10] donc on somme sur 100*10 éléments."
   ]
  },
  {
   "cell_type": "code",
   "execution_count": 35,
   "metadata": {},
   "outputs": [],
   "source": [
    "# loss function\n",
    "cross_entropy = - tf.reduce_sum(Y_ * tf.log(Y))"
   ]
  },
  {
   "cell_type": "markdown",
   "metadata": {},
   "source": [
    "Pourcentage de réponse correctes sur le batch."
   ]
  },
  {
   "cell_type": "markdown",
   "metadata": {},
   "source": [
    "Nombre de réponses justes: utilisation de argmax qui donne l'indice de la plus grande valeur d'une portion du tenseur selon un axe, ici 1 ce qui correspond aux lignes (Y_ est \"one hot encoded\"). Ici is_correct est un vecteur de la taille du batch."
   ]
  },
  {
   "cell_type": "code",
   "execution_count": 36,
   "metadata": {},
   "outputs": [],
   "source": [
    "is_correct = tf.equal(tf.argmax(Y,1), tf.argmax(Y_,1))"
   ]
  },
  {
   "cell_type": "markdown",
   "metadata": {},
   "source": [
    "Calcul du % de réponses justes (utilisation d'une conversion de type pour faire calcul)"
   ]
  },
  {
   "cell_type": "code",
   "execution_count": 37,
   "metadata": {},
   "outputs": [],
   "source": [
    "accuracy = tf.reduce_mean(tf.cast(is_correct, tf.float32))"
   ]
  },
  {
   "cell_type": "markdown",
   "metadata": {},
   "source": [
    "Méthode d'apprentissage: méthode de la descente de gradient de l'entropie croisée"
   ]
  },
  {
   "cell_type": "markdown",
   "metadata": {},
   "source": [
    "Ici Tensorflow cherche à réduire la fonction de coût choisie (loss function = cross entropy) en faisant la dérivation formelle et en mettant à jour W et b en fonction du gradient calculé et du pas choisi pour l'apprentissage."
   ]
  },
  {
   "cell_type": "code",
   "execution_count": 38,
   "metadata": {},
   "outputs": [],
   "source": [
    "optimizer = tf.train.GradientDescentOptimizer(0.003)\n",
    "train_step = optimizer.minimize(cross_entropy)"
   ]
  },
  {
   "cell_type": "markdown",
   "metadata": {},
   "source": [
    "## Phase d'apprentissage"
   ]
  },
  {
   "cell_type": "markdown",
   "metadata": {},
   "source": [
    "Variables utilisées pour la création des batches"
   ]
  },
  {
   "cell_type": "code",
   "execution_count": 39,
   "metadata": {},
   "outputs": [],
   "source": [
    "n_train = x_train.shape[0] # Nombre de ligne de la matrice x_train\n",
    "n_test  = x_test.shape[0]"
   ]
  },
  {
   "cell_type": "markdown",
   "metadata": {},
   "source": [
    "Variables pour la visualisation"
   ]
  },
  {
   "cell_type": "code",
   "execution_count": 40,
   "metadata": {},
   "outputs": [],
   "source": [
    "accuracy_train = []\n",
    "accuracy_test = []\n",
    "loss_train = []\n",
    "loss_test = []\n",
    "i_best = 0\n",
    "accuracy_best = 0"
   ]
  },
  {
   "cell_type": "markdown",
   "metadata": {},
   "source": [
    "Une époque correspond à une exploration complète du jeu de données d'entraînement"
   ]
  },
  {
   "cell_type": "code",
   "execution_count": 41,
   "metadata": {},
   "outputs": [
    {
     "name": "stdout",
     "output_type": "stream",
     "text": [
      "Epoch :  1\n",
      "Epoch :  2\n",
      "Epoch :  3\n",
      "Epoch :  4\n"
     ]
    },
    {
     "data": {
      "image/png": "[encoded data removed]",
      "text/plain": [
       "<Figure size 432x288 with 1 Axes>"
      ]
     },
     "metadata": {
      "needs_background": "light"
     },
     "output_type": "display_data"
    },
    {
     "data": {
      "image/png": "[encoded data removed]",
      "text/plain": [
       "<Figure size 432x288 with 1 Axes>"
      ]
     },
     "metadata": {
      "needs_background": "light"
     },
     "output_type": "display_data"
    },
    {
     "data": {
      "image/png": "[encoded data removed]",
      "text/plain": [
       "<Figure size 432x288 with 1 Axes>"
      ]
     },
     "metadata": {
      "needs_background": "light"
     },
     "output_type": "display_data"
    },
    {
     "data": {
      "image/png": "[encoded data removed]",
      "text/plain": [
       "<Figure size 432x288 with 1 Axes>"
      ]
     },
     "metadata": {
      "needs_background": "light"
     },
     "output_type": "display_data"
    },
    {
     "name": "stdout",
     "output_type": "stream",
     "text": [
      "Iteration 1400 \t| Accuracy = 0.9600\n"
     ]
    }
   ],
   "source": [
    "\n",
    "sess = tf.Session()\n",
    "\n",
    "init = tf.global_variables_initializer()\n",
    "sess.run(init)\n",
    "\n",
    "\n",
    "for i in range(2000):\n",
    "    epoch = (i*100)//n_train + 1\n",
    "    \n",
    "    # Chargement d'un batch d'images et de réponses correctes correspondantes\n",
    "    batch_train_X  = x_train[(i*100)%n_train:((i+1)*100)%n_train]\n",
    "    batch_train_Y_ = y_train[(i*100)%n_train:((i+1)*100)%n_train]\n",
    "    # Dictionnaire de données en entrée\n",
    "    train_data = {X: batch_train_X, Y_: batch_train_Y_}\n",
    "\n",
    "    # train\n",
    "    sess.run(train_step, feed_dict=train_data)\n",
    "    \n",
    "    # Visualisation de la progression\n",
    "    if not (i*100)%(n_train):\n",
    "        print(\"Epoch : \", epoch)\n",
    "    if not i%50:\n",
    "        # Pour le batch d'entraînement\n",
    "        acc, loss = sess.run([accuracy, cross_entropy], feed_dict=train_data)\n",
    "        accuracy_train.append(acc)\n",
    "        loss_train.append(loss)\n",
    "        \n",
    "        # Pour le batch de test\n",
    "        batch_test_X  = x_train[(i*100)%n_test:((i+1)*100)%n_test]\n",
    "        batch_test_Y_ = y_train[(i*100)%n_test:((i+1)*100)%n_test]\n",
    "        test_data = {X: batch_test_X, Y_: batch_test_Y_}\n",
    "        acc, loss = sess.run([accuracy, cross_entropy], feed_dict=test_data)\n",
    "        accuracy_test.append(acc)\n",
    "        loss_test.append(loss)\n",
    "        if acc>accuracy_best:\n",
    "            accuracy_best = acc\n",
    "            i_best = i\n",
    "\n",
    "# Représentation des résultats\n",
    "plt.plot(accuracy_train)\n",
    "plt.xlabel('i//50')\n",
    "plt.title('Accuracy train')\n",
    "plt.show()\n",
    "plt.title('Accuracy test')\n",
    "plt.plot(accuracy_test)\n",
    "plt.show()\n",
    "plt.title('Loss train')\n",
    "plt.plot(loss_train)\n",
    "plt.show()\n",
    "plt.title('Loss test')\n",
    "plt.plot(loss_test)\n",
    "plt.show()\n",
    "\n",
    "# Meilleur résultat sur un batch de test\n",
    "print(\"Iteration {} \\t| Accuracy = {:.4f}\".format(i_best, accuracy_best ))\n"
   ]
  },
  {
   "cell_type": "code",
   "execution_count": 42,
   "metadata": {},
   "outputs": [],
   "source": [
    "sess.close()"
   ]
  },
  {
   "cell_type": "markdown",
   "metadata": {},
   "source": [
    "96% de réussite sur un jeu de données jamais rencontrées lors de l'apprentissage, pas mal déjà! Voyons voir si l'on peut faire mieux?"
   ]
  },
  {
   "cell_type": "code",
   "execution_count": null,
   "metadata": {},
   "outputs": [],
   "source": []
  }
 ],
 "metadata": {
  "kernelspec": {
   "display_name": "Python 3",
   "language": "python",
   "name": "python3"
  },
  "language_info": {
   "codemirror_mode": {
    "name": "ipython",
    "version": 3
   },
   "file_extension": ".py",
   "mimetype": "text/x-python",
   "name": "python",
   "nbconvert_exporter": "python",
   "pygments_lexer": "ipython3",
   "version": "3.7.1"
  }
 },
 "nbformat": 4,
 "nbformat_minor": 2
}
