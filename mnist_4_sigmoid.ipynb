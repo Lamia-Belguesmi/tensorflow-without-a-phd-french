{
 "cells": [
  {
   "cell_type": "markdown",
   "metadata": {},
   "source": [
    "# Niveaux intermédiaires avec sigmoïde"
   ]
  },
  {
   "cell_type": "code",
   "execution_count": 199,
   "metadata": {},
   "outputs": [],
   "source": [
    "import tensorflow as tf\n",
    "import numpy as np\n",
    "from tensorflow.keras.utils import to_categorical\n",
    "import matplotlib.pyplot as plt"
   ]
  },
  {
   "cell_type": "markdown",
   "metadata": {},
   "source": [
    "Ajout de couches de neurones intermédiaires avec sigmoïde comme fonction d'activation. La dernière couche de neurones reste la même que précédemment avec softmax."
   ]
  },
  {
   "cell_type": "markdown",
   "metadata": {},
   "source": [
    "<img src=\"NN_sigmoid.png\"  style=\"width: 60%; height: 60%\"/>"
   ]
  },
  {
   "cell_type": "markdown",
   "metadata": {},
   "source": [
    "La fonction sigmoïde permet d'avoir un signal en sortie de neurone toujours compris entre 0 et 1."
   ]
  },
  {
   "cell_type": "markdown",
   "metadata": {},
   "source": [
    "$$\\forall x \\in \\mathbb R,$$\n",
    "$$\\sigma(x)=\\frac{1}{1+e^{-x}}$$"
   ]
  },
  {
   "cell_type": "code",
   "execution_count": 200,
   "metadata": {},
   "outputs": [
    {
     "data": {
      "image/png": "[encoded data removed]",
      "text/plain": [
       "<Figure size 432x288 with 1 Axes>"
      ]
     },
     "metadata": {
      "needs_background": "light"
     },
     "output_type": "display_data"
    }
   ],
   "source": [
    "sigmoid = lambda x: 1 / (1 + np.exp(-x))\n",
    "x=np.linspace(-10,10,100)\n",
    "plt.plot(x, sigmoid(x), 'steelblue')\n",
    "plt.grid()\n",
    "plt.title('Sigmoid Function')\n",
    "plt.show()"
   ]
  },
  {
   "cell_type": "markdown",
   "metadata": {},
   "source": [
    "## Données"
   ]
  },
  {
   "cell_type": "code",
   "execution_count": 201,
   "metadata": {},
   "outputs": [],
   "source": [
    "(x_train, y_train), (x_test, y_test) = tf.keras.datasets.mnist.load_data()\n",
    "x_train = x_train/255.\n",
    "x_test  = x_test/255.\n",
    "y_train = to_categorical(y_train, dtype='int8')\n",
    "y_test  = to_categorical(y_test, dtype='int8')"
   ]
  },
  {
   "cell_type": "markdown",
   "metadata": {},
   "source": [
    "## Définition du graphe"
   ]
  },
  {
   "cell_type": "markdown",
   "metadata": {},
   "source": [
    "On reprend la solution précédente en ajoutant deux niveaux intermédiaires. Un niveau de 200 neurones complètement connecté au vecteur d'entrée X et un second de 100 neurones complètement connecté au précédent. Dans les deux cas la fonction d'activation est la sigmoïde (quoi qu'à l'heure actuelle la littérature semble indiquer que la solution la plus pertinente soit la fonction ReLU (pour retified linear unit), mais cette solution sera présentée par la suite. On aura donc pour chaque sous niveau:\n",
    "$$Y = \\sigma(WX+b)$$"
   ]
  },
  {
   "cell_type": "markdown",
   "metadata": {},
   "source": [
    "L'initialisation des poids ne se fait plus à zéros, sinon on a un comportement aléatoire avec une convergence dégradée et des performaces qui le sont tout autant!"
   ]
  },
  {
   "cell_type": "markdown",
   "metadata": {},
   "source": [
    "<img src=\"init_zero.png\" style=\"width: 50%; height: 50%\"/>"
   ]
  },
  {
   "cell_type": "markdown",
   "metadata": {},
   "source": [
    "Pour éviter ce comportement un utilise une initialisation avec des poids alétoires de petite taille en suivant une distribution gaussienne grace à la fonction `tf.truncated_normal` qui renvoie des chiffres entre  -2*(écart type) et +2*(écart type). (écart type = standard deviation, stddev)"
   ]
  },
  {
   "cell_type": "markdown",
   "metadata": {},
   "source": [
    "Premier niveau de 200 neurones:\n",
    "- en entrée X[batch_size,784]\n",
    "- neurones W1[784,200] b1[200]\n",
    "- en sortie Y1[batch_size,200]"
   ]
  },
  {
   "cell_type": "code",
   "execution_count": 202,
   "metadata": {},
   "outputs": [],
   "source": [
    "X = tf.placeholder(tf.float32, shape=(None,28,28))\n",
    "Xv = tf.reshape(X, [-1, 784])"
   ]
  },
  {
   "cell_type": "markdown",
   "metadata": {},
   "source": [
    "> tf.placeholder, tf.constant sont des noeuds du graphe (des opérations) et commencent avec une minuscule, tandis que tf.Variable correspond à une classe"
   ]
  },
  {
   "cell_type": "code",
   "execution_count": 203,
   "metadata": {},
   "outputs": [],
   "source": [
    "#W1 = tf.Variable(tf.zeros([784,200]))\n",
    "W1 = tf.Variable(tf.truncated_normal([784,200], stddev=0.1))\n",
    "b1 = tf.Variable(tf.zeros([200]))"
   ]
  },
  {
   "cell_type": "code",
   "execution_count": 204,
   "metadata": {},
   "outputs": [],
   "source": [
    "Y1 = tf.nn.sigmoid(tf.matmul(Xv,W1) + b1)"
   ]
  },
  {
   "cell_type": "markdown",
   "metadata": {},
   "source": [
    "Deuxième niveau de 100 neurones:\n",
    "- en entrée Y1[batch_size,200]\n",
    "- neurones W2[200,100] b2[100]\n",
    "- en sortie Y2[batch_size,100]"
   ]
  },
  {
   "cell_type": "code",
   "execution_count": 205,
   "metadata": {},
   "outputs": [],
   "source": [
    "#W2 = tf.Variable(tf.zeros([200,100]))\n",
    "W2 = tf.Variable(tf.truncated_normal([200,100], stddev=0.1))\n",
    "b2 = tf.Variable(tf.zeros([100]))\n",
    "Y2 = tf.nn.sigmoid(tf.matmul(Y1,W2) + b2)"
   ]
  },
  {
   "cell_type": "markdown",
   "metadata": {},
   "source": [
    "Troisième niveau: 10 neurones avec softmax:\n",
    "- en entrée Y2\n",
    "- neurones W3[100,10], b3[10]\n",
    "- en sortie Y[batch_size,10]"
   ]
  },
  {
   "cell_type": "code",
   "execution_count": 206,
   "metadata": {},
   "outputs": [],
   "source": [
    "#W3 = tf.Variable(tf.zeros([100, 10]))\n",
    "W3 = tf.Variable(tf.truncated_normal([100, 10], stddev=0.1))\n",
    "b3 = tf.Variable(tf.zeros([10]))\n",
    "Y = tf.nn.softmax(tf.matmul(Y2,W3) + b3)"
   ]
  },
  {
   "cell_type": "code",
   "execution_count": 207,
   "metadata": {},
   "outputs": [],
   "source": [
    "Y_ = tf.placeholder(tf.float32, shape=(None,10))"
   ]
  },
  {
   "cell_type": "markdown",
   "metadata": {},
   "source": [
    "Entropie croisée:"
   ]
  },
  {
   "cell_type": "code",
   "execution_count": 208,
   "metadata": {},
   "outputs": [],
   "source": [
    "cross_entropy = - tf.reduce_sum(Y_ * tf.log(Y))\n",
    "is_correct = tf.equal(tf.argmax(Y,1), tf.argmax(Y_,1))\n",
    "accuracy = tf.reduce_mean(tf.cast(is_correct, tf.float32))\n",
    "optimizer = tf.train.GradientDescentOptimizer(0.003)\n",
    "train_step = optimizer.minimize(cross_entropy)"
   ]
  },
  {
   "cell_type": "markdown",
   "metadata": {},
   "source": [
    "## Phase d'apprentissage"
   ]
  },
  {
   "cell_type": "code",
   "execution_count": 209,
   "metadata": {},
   "outputs": [],
   "source": [
    "n_train = x_train.shape[0] # Nombre de ligne de la matrice x_train\n",
    "n_test  = x_test.shape[0]\n",
    "accuracy_train = []\n",
    "accuracy_test = []\n",
    "loss_train = []\n",
    "loss_test = []\n",
    "i_best = 0\n",
    "accuracy_best = 0"
   ]
  },
  {
   "cell_type": "code",
   "execution_count": 210,
   "metadata": {},
   "outputs": [
    {
     "name": "stdout",
     "output_type": "stream",
     "text": [
      "Epoch :  1\n",
      "Epoch :  2\n",
      "Epoch :  3\n",
      "Epoch :  4\n",
      "Epoch :  5\n",
      "Epoch :  6\n",
      "Epoch :  7\n",
      "Epoch :  8\n",
      "Epoch :  9\n"
     ]
    },
    {
     "data": {
      "image/png": "[encoded data removed]",
      "text/plain": [
       "<Figure size 432x288 with 1 Axes>"
      ]
     },
     "metadata": {
      "needs_background": "light"
     },
     "output_type": "display_data"
    },
    {
     "data": {
      "image/png": "[encoded data removed]",
      "text/plain": [
       "<Figure size 432x288 with 1 Axes>"
      ]
     },
     "metadata": {
      "needs_background": "light"
     },
     "output_type": "display_data"
    },
    {
     "name": "stdout",
     "output_type": "stream",
     "text": [
      "Best score for iteration 4950 \t| Accuracy = 0.9572\n"
     ]
    }
   ],
   "source": [
    "\n",
    "sess = tf.Session()\n",
    "\n",
    "init = tf.global_variables_initializer()\n",
    "sess.run(init)\n",
    "\n",
    "\n",
    "for i in range(5000):\n",
    "    epoch = (i*100)//n_train + 1\n",
    "    \n",
    "    # Chargement d'un batch d'images et de réponses correctes correspondantes\n",
    "    batch_train_X  = x_train[(i*100)%n_train:((i+1)*100)%n_train]\n",
    "    batch_train_Y_ = y_train[(i*100)%n_train:((i+1)*100)%n_train]\n",
    "    # Dictionnaire de données en entrée\n",
    "    train_data = {X: batch_train_X, Y_: batch_train_Y_}\n",
    "\n",
    "    # train\n",
    "    sess.run(train_step, feed_dict=train_data)\n",
    "    \n",
    "    # Visualisation de la progression\n",
    "    if not (i*100)%(n_train):\n",
    "        print(\"Epoch : \", epoch)\n",
    "    if not i%50:\n",
    "        # Pour le batch d'entraînement\n",
    "        acc, loss = sess.run([accuracy, cross_entropy], feed_dict=train_data)\n",
    "        accuracy_train.append(acc)\n",
    "        loss_train.append(loss/10)\n",
    "        \n",
    "        # Pour le test: évaluation sur tout l'ensemble des données\n",
    "        #batch_test_X  = x_train[:n_test]\n",
    "        #batch_test_Y_ = y_train[:n_test]\n",
    "        test_data = {X: x_train, Y_: y_train}\n",
    "        acc, loss = sess.run([accuracy, cross_entropy], feed_dict=test_data)\n",
    "        accuracy_test.append(acc)\n",
    "        loss_test.append(loss/n_test)\n",
    "        if acc>accuracy_best:\n",
    "            accuracy_best = acc\n",
    "            i_best = i\n",
    "\n",
    "# Représentation des résultats\n",
    "# Précision\n",
    "plt.plot(accuracy_test, c='coral', label='test')\n",
    "plt.plot(accuracy_train, c='steelblue', label='train')\n",
    "plt.xlabel('i//50')\n",
    "plt.title('Précision')\n",
    "plt.legend(bbox_to_anchor=(1.05, 1), loc='upper left', borderaxespad=0.)\n",
    "plt.show()\n",
    "# Fonction de coût\n",
    "plt.plot(loss_test, c='coral', label='test')\n",
    "plt.plot(loss_train, c='steelblue', label='train')\n",
    "plt.title('Entropie croisée moyenne')\n",
    "plt.legend(bbox_to_anchor=(1.05, 1), loc='upper left', borderaxespad=0.)\n",
    "plt.show()\n",
    "# Meilleur résultat sur un batch de test\n",
    "print(\"Best score for iteration {} \\t| Accuracy = {:.4f}\".format(i_best, accuracy_best ))\n"
   ]
  },
  {
   "cell_type": "markdown",
   "metadata": {},
   "source": [
    "Déjà 95,71% de réussite sur l'ensemble de test! Impressionant :)"
   ]
  },
  {
   "cell_type": "code",
   "execution_count": 211,
   "metadata": {},
   "outputs": [],
   "source": [
    "sess.close()"
   ]
  },
  {
   "cell_type": "code",
   "execution_count": null,
   "metadata": {},
   "outputs": [],
   "source": []
  }
 ],
 "metadata": {
  "kernelspec": {
   "display_name": "Python 3",
   "language": "python",
   "name": "python3"
  },
  "language_info": {
   "codemirror_mode": {
    "name": "ipython",
    "version": 3
   },
   "file_extension": ".py",
   "mimetype": "text/x-python",
   "name": "python",
   "nbconvert_exporter": "python",
   "pygments_lexer": "ipython3",
   "version": "3.7.1"
  }
 },
 "nbformat": 4,
 "nbformat_minor": 2
}
